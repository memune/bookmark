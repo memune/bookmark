{
 "cells": [
  {
   "cell_type": "code",
   "execution_count": 1,
   "metadata": {},
   "outputs": [],
   "source": [
    "import yfinance as yf"
   ]
  },
  {
   "cell_type": "code",
   "execution_count": 2,
   "metadata": {},
   "outputs": [],
   "source": [
    "msft = yf.Ticker(\"MSFT\")"
   ]
  },
  {
   "cell_type": "code",
   "execution_count": 3,
   "metadata": {},
   "outputs": [
    {
     "data": {
      "text/plain": [
       "{'zip': '98052-6399',\n",
       " 'sector': 'Technology',\n",
       " 'fullTimeEmployees': 163000,\n",
       " 'longBusinessSummary': 'Microsoft Corporation develops, licenses, and supports software, services, devices, and solutions worldwide. Its Productivity and Business Processes segment offers Office, Exchange, SharePoint, Microsoft Teams, Office 365 Security and Compliance, and Skype for Business, as well as related Client Access Licenses (CAL); Skype, Outlook.com, and OneDrive; LinkedIn that includes Talent, Learning, Sales, and Marketing solutions, as well as premium subscriptions; and Dynamics 365, a set of cloud-based and on-premises business solutions for small and medium businesses, large organizations, and divisions of enterprises. Its Intelligent Cloud segment licenses SQL and Windows Servers, Visual Studio, System Center, and related CALs; GitHub that provides a collaboration platform and code hosting service for developers; and Azure, a cloud platform. It also offers support services and Microsoft consulting services to assist customers in developing, deploying, and managing Microsoft server and desktop solutions; and training and certification to developers and IT professionals on various Microsoft products. Its More Personal Computing segment provides Windows original equipment manufacturer (OEM) licensing and other non-volume licensing of the Windows operating system; Windows Commercial, such as volume licensing of the Windows operating system, Windows cloud services, and other Windows commercial offerings; patent licensing; Windows Internet of Things; and MSN advertising. It also offers Surface, PC accessories, PCs, tablets, gaming and entertainment consoles, and other intelligent devices; Gaming, including Xbox hardware, and Xbox content and services; video games and third-party video game royalties; and Search, including Bing and Microsoft advertising. It sells its products through OEMs, distributors, and resellers; and directly through digital marketplaces, online stores, and retail stores. The company was founded in 1975 and is headquartered in Redmond, Washington.',\n",
       " 'city': 'Redmond',\n",
       " 'phone': '425-882-8080',\n",
       " 'state': 'WA',\n",
       " 'country': 'United States',\n",
       " 'companyOfficers': [],\n",
       " 'website': 'http://www.microsoft.com',\n",
       " 'maxAge': 1,\n",
       " 'address1': 'One Microsoft Way',\n",
       " 'industry': 'Software—Infrastructure',\n",
       " 'previousClose': 200.59,\n",
       " 'regularMarketOpen': 199.85,\n",
       " 'twoHundredDayAverage': 189.74185,\n",
       " 'trailingAnnualDividendYield': 0.010169999,\n",
       " 'payoutRatio': 0.3455,\n",
       " 'volume24Hr': None,\n",
       " 'regularMarketDayHigh': 205.5683,\n",
       " 'navPrice': None,\n",
       " 'averageDailyVolume10Day': 34087587,\n",
       " 'totalAssets': None,\n",
       " 'regularMarketPreviousClose': 200.59,\n",
       " 'fiftyDayAverage': 211.67857,\n",
       " 'trailingAnnualDividendRate': 2.04,\n",
       " 'open': 199.85,\n",
       " 'toCurrency': None,\n",
       " 'averageVolume10days': 34087587,\n",
       " 'expireDate': None,\n",
       " 'yield': None,\n",
       " 'algorithm': None,\n",
       " 'dividendRate': 2.24,\n",
       " 'exDividendDate': 1605657600,\n",
       " 'beta': 0.893534,\n",
       " 'circulatingSupply': None,\n",
       " 'startDate': None,\n",
       " 'regularMarketDayLow': 199.2,\n",
       " 'priceHint': 2,\n",
       " 'currency': 'USD',\n",
       " 'trailingPE': 35.27604,\n",
       " 'regularMarketVolume': 30104128,\n",
       " 'lastMarket': None,\n",
       " 'maxSupply': None,\n",
       " 'openInterest': None,\n",
       " 'marketCap': 1537670774784,\n",
       " 'volumeAllCurrencies': None,\n",
       " 'strikePrice': None,\n",
       " 'averageVolume': 35237081,\n",
       " 'priceToSalesTrailing12Months': 10.751815,\n",
       " 'dayLow': 199.2,\n",
       " 'ask': 203.29,\n",
       " 'ytdReturn': None,\n",
       " 'askSize': 900,\n",
       " 'volume': 30104128,\n",
       " 'fiftyTwoWeekHigh': 232.86,\n",
       " 'forwardPE': 27.6449,\n",
       " 'fromCurrency': None,\n",
       " 'fiveYearAvgDividendYield': 1.83,\n",
       " 'fiftyTwoWeekLow': 132.52,\n",
       " 'bid': 203.02,\n",
       " 'tradeable': False,\n",
       " 'dividendYield': 0.011,\n",
       " 'bidSize': 900,\n",
       " 'dayHigh': 205.5683,\n",
       " 'exchange': 'NMS',\n",
       " 'shortName': 'Microsoft Corporation',\n",
       " 'longName': 'Microsoft Corporation',\n",
       " 'exchangeTimezoneName': 'America/New_York',\n",
       " 'exchangeTimezoneShortName': 'EDT',\n",
       " 'isEsgPopulated': False,\n",
       " 'gmtOffSetMilliseconds': '-14400000',\n",
       " 'quoteType': 'EQUITY',\n",
       " 'symbol': 'MSFT',\n",
       " 'messageBoardId': 'finmb_21835',\n",
       " 'market': 'us_market',\n",
       " 'annualHoldingsTurnover': None,\n",
       " 'enterpriseToRevenue': 10.372,\n",
       " 'beta3Year': None,\n",
       " 'profitMargins': 0.30962,\n",
       " 'enterpriseToEbitda': 22.729,\n",
       " '52WeekChange': 0.47527778,\n",
       " 'morningStarRiskRating': None,\n",
       " 'forwardEps': 7.35,\n",
       " 'revenueQuarterlyGrowth': None,\n",
       " 'sharesOutstanding': 7567649792,\n",
       " 'fundInceptionDate': None,\n",
       " 'annualReportExpenseRatio': None,\n",
       " 'bookValue': 15.626,\n",
       " 'sharesShort': 36458662,\n",
       " 'sharesPercentSharesOut': 0.0047999998,\n",
       " 'fundFamily': None,\n",
       " 'lastFiscalYearEnd': 1593475200,\n",
       " 'heldPercentInstitutions': 0.74093,\n",
       " 'netIncomeToCommon': 44280999936,\n",
       " 'trailingEps': 5.76,\n",
       " 'lastDividendValue': None,\n",
       " 'SandP52WeekChange': 0.09615803,\n",
       " 'priceToBook': 13.003327,\n",
       " 'heldPercentInsiders': 0.014249999,\n",
       " 'nextFiscalYearEnd': 1656547200,\n",
       " 'mostRecentQuarter': 1593475200,\n",
       " 'shortRatio': 1.08,\n",
       " 'sharesShortPreviousMonthDate': 1596153600,\n",
       " 'floatShares': 7455727348,\n",
       " 'enterpriseValue': 1483289395200,\n",
       " 'threeYearAverageReturn': None,\n",
       " 'lastSplitDate': 1045526400,\n",
       " 'lastSplitFactor': '2:1',\n",
       " 'legalType': None,\n",
       " 'morningStarOverallRating': None,\n",
       " 'earningsQuarterlyGrowth': -0.151,\n",
       " 'dateShortInterest': 1598832000,\n",
       " 'pegRatio': 2.07,\n",
       " 'lastCapGain': None,\n",
       " 'shortPercentOfFloat': 0.0049,\n",
       " 'sharesShortPriorMonth': 36472205,\n",
       " 'category': None,\n",
       " 'fiveYearAverageReturn': None,\n",
       " 'regularMarketPrice': 199.85,\n",
       " 'logo_url': 'https://logo.clearbit.com/microsoft.com'}"
      ]
     },
     "execution_count": 3,
     "metadata": {},
     "output_type": "execute_result"
    }
   ],
   "source": [
    "msft.info"
   ]
  },
  {
   "cell_type": "code",
   "execution_count": 4,
   "metadata": {},
   "outputs": [
    {
     "data": {
      "text/plain": [
       "Date\n",
       "2003-02-19    0.08\n",
       "2003-10-15    0.16\n",
       "2004-08-23    0.08\n",
       "2004-11-15    3.08\n",
       "2005-02-15    0.08\n",
       "              ... \n",
       "2019-08-14    0.46\n",
       "2019-11-20    0.51\n",
       "2020-02-19    0.51\n",
       "2020-05-20    0.51\n",
       "2020-08-19    0.51\n",
       "Name: Dividends, Length: 67, dtype: float64"
      ]
     },
     "execution_count": 4,
     "metadata": {},
     "output_type": "execute_result"
    }
   ],
   "source": [
    "msft.dividends"
   ]
  },
  {
   "cell_type": "code",
   "execution_count": null,
   "metadata": {},
   "outputs": [],
   "source": []
  }
 ],
 "metadata": {
  "kernelspec": {
   "display_name": "Python 3",
   "language": "python",
   "name": "python3"
  },
  "language_info": {
   "codemirror_mode": {
    "name": "ipython",
    "version": 3
   },
   "file_extension": ".py",
   "mimetype": "text/x-python",
   "name": "python",
   "nbconvert_exporter": "python",
   "pygments_lexer": "ipython3",
   "version": "3.7.9"
  }
 },
 "nbformat": 4,
 "nbformat_minor": 4
}
